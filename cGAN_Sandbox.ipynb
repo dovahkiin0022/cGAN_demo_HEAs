{
  "nbformat": 4,
  "nbformat_minor": 0,
  "metadata": {
    "colab": {
      "name": "cGAN-Sandbox.ipynb",
      "provenance": [],
      "authorship_tag": "ABX9TyOEoYyQ3NQj/aC+h3qgjqn/",
      "include_colab_link": true
    },
    "kernelspec": {
      "name": "python3",
      "display_name": "Python 3"
    },
    "language_info": {
      "name": "python"
    }
  },
  "cells": [
    {
      "cell_type": "markdown",
      "metadata": {
        "id": "view-in-github",
        "colab_type": "text"
      },
      "source": [
        "<a href=\"https://colab.research.google.com/github/dovahkiin0022/cGAN_demo_HEAs/blob/main/cGAN_Sandbox.ipynb\" target=\"_parent\"><img src=\"https://colab.research.google.com/assets/colab-badge.svg\" alt=\"Open In Colab\"/></a>"
      ]
    },
    {
      "cell_type": "markdown",
      "source": [
        "##Install necessary modules"
      ],
      "metadata": {
        "id": "Gc33fK12_ZUP"
      }
    },
    {
      "cell_type": "code",
      "source": [
        "!pip install pymatgen\n",
        "!pip install pymongo[srv]\n",
        "!pip install wget"
      ],
      "metadata": {
        "id": "y5EUMaDQ_ccY",
        "colab": {
          "base_uri": "https://localhost:8080/",
          "height": 1000
        },
        "outputId": "535b3d4f-8fb6-4bd6-ae1b-091dbe603cf7"
      },
      "execution_count": 1,
      "outputs": [
        {
          "output_type": "stream",
          "name": "stdout",
          "text": [
            "Collecting pymatgen\n",
            "  Downloading pymatgen-2022.0.17.tar.gz (40.6 MB)\n",
            "\u001b[K     |████████████████████████████████| 40.6 MB 2.2 MB/s \n",
            "\u001b[?25h  Installing build dependencies ... \u001b[?25l\u001b[?25hdone\n",
            "  Getting requirements to build wheel ... \u001b[?25l\u001b[?25hdone\n",
            "  Installing backend dependencies ... \u001b[?25l\u001b[?25hdone\n",
            "    Preparing wheel metadata ... \u001b[?25l\u001b[?25hdone\n",
            "Requirement already satisfied: matplotlib>=1.5 in /usr/local/lib/python3.7/dist-packages (from pymatgen) (3.2.2)\n",
            "Requirement already satisfied: pandas in /usr/local/lib/python3.7/dist-packages (from pymatgen) (1.1.5)\n",
            "Collecting numpy>=1.20.1\n",
            "  Using cached numpy-1.21.5-cp37-cp37m-manylinux_2_12_x86_64.manylinux2010_x86_64.whl (15.7 MB)\n",
            "Requirement already satisfied: tabulate in /usr/local/lib/python3.7/dist-packages (from pymatgen) (0.8.9)\n",
            "Collecting ruamel.yaml>=0.15.6\n",
            "  Downloading ruamel.yaml-0.17.17-py3-none-any.whl (109 kB)\n",
            "\u001b[K     |████████████████████████████████| 109 kB 53.9 MB/s \n",
            "\u001b[?25hCollecting spglib>=1.9.9.44\n",
            "  Downloading spglib-1.16.3-cp37-cp37m-manylinux_2_17_x86_64.manylinux2014_x86_64.whl (292 kB)\n",
            "\u001b[K     |████████████████████████████████| 292 kB 41.5 MB/s \n",
            "\u001b[?25hCollecting monty>=3.0.2\n",
            "  Downloading monty-2021.12.1-py3-none-any.whl (65 kB)\n",
            "\u001b[K     |████████████████████████████████| 65 kB 1.9 MB/s \n",
            "\u001b[?25hRequirement already satisfied: sympy in /usr/local/lib/python3.7/dist-packages (from pymatgen) (1.7.1)\n",
            "Collecting plotly>=4.5.0\n",
            "  Downloading plotly-5.5.0-py2.py3-none-any.whl (26.5 MB)\n",
            "\u001b[K     |████████████████████████████████| 26.5 MB 1.5 MB/s \n",
            "\u001b[?25hRequirement already satisfied: typing-extensions>=3.7.4.3 in /usr/local/lib/python3.7/dist-packages (from pymatgen) (3.10.0.2)\n",
            "Requirement already satisfied: palettable>=3.1.1 in /usr/local/lib/python3.7/dist-packages (from pymatgen) (3.3.0)\n",
            "Collecting uncertainties>=3.1.4\n",
            "  Downloading uncertainties-3.1.6-py2.py3-none-any.whl (98 kB)\n",
            "\u001b[K     |████████████████████████████████| 98 kB 6.3 MB/s \n",
            "\u001b[?25hRequirement already satisfied: requests in /usr/local/lib/python3.7/dist-packages (from pymatgen) (2.23.0)\n",
            "Requirement already satisfied: networkx>=2.2 in /usr/local/lib/python3.7/dist-packages (from pymatgen) (2.6.3)\n",
            "Collecting scipy>=1.5.0\n",
            "  Downloading scipy-1.7.3-cp37-cp37m-manylinux_2_12_x86_64.manylinux2010_x86_64.whl (38.1 MB)\n",
            "\u001b[K     |████████████████████████████████| 38.1 MB 1.4 MB/s \n",
            "\u001b[?25hRequirement already satisfied: python-dateutil>=2.1 in /usr/local/lib/python3.7/dist-packages (from matplotlib>=1.5->pymatgen) (2.8.2)\n",
            "Requirement already satisfied: pyparsing!=2.0.4,!=2.1.2,!=2.1.6,>=2.0.1 in /usr/local/lib/python3.7/dist-packages (from matplotlib>=1.5->pymatgen) (3.0.6)\n",
            "Requirement already satisfied: cycler>=0.10 in /usr/local/lib/python3.7/dist-packages (from matplotlib>=1.5->pymatgen) (0.11.0)\n",
            "Requirement already satisfied: kiwisolver>=1.0.1 in /usr/local/lib/python3.7/dist-packages (from matplotlib>=1.5->pymatgen) (1.3.2)\n",
            "Requirement already satisfied: six in /usr/local/lib/python3.7/dist-packages (from plotly>=4.5.0->pymatgen) (1.15.0)\n",
            "Collecting tenacity>=6.2.0\n",
            "  Downloading tenacity-8.0.1-py3-none-any.whl (24 kB)\n",
            "Collecting ruamel.yaml.clib>=0.1.2\n",
            "  Downloading ruamel.yaml.clib-0.2.6-cp37-cp37m-manylinux1_x86_64.whl (546 kB)\n",
            "\u001b[K     |████████████████████████████████| 546 kB 65.8 MB/s \n",
            "\u001b[?25hRequirement already satisfied: future in /usr/local/lib/python3.7/dist-packages (from uncertainties>=3.1.4->pymatgen) (0.16.0)\n",
            "Requirement already satisfied: pytz>=2017.2 in /usr/local/lib/python3.7/dist-packages (from pandas->pymatgen) (2018.9)\n",
            "Requirement already satisfied: idna<3,>=2.5 in /usr/local/lib/python3.7/dist-packages (from requests->pymatgen) (2.10)\n",
            "Requirement already satisfied: urllib3!=1.25.0,!=1.25.1,<1.26,>=1.21.1 in /usr/local/lib/python3.7/dist-packages (from requests->pymatgen) (1.24.3)\n",
            "Requirement already satisfied: chardet<4,>=3.0.2 in /usr/local/lib/python3.7/dist-packages (from requests->pymatgen) (3.0.4)\n",
            "Requirement already satisfied: certifi>=2017.4.17 in /usr/local/lib/python3.7/dist-packages (from requests->pymatgen) (2021.10.8)\n",
            "Requirement already satisfied: mpmath>=0.19 in /usr/local/lib/python3.7/dist-packages (from sympy->pymatgen) (1.2.1)\n",
            "Building wheels for collected packages: pymatgen\n",
            "  Building wheel for pymatgen (PEP 517) ... \u001b[?25l\u001b[?25hdone\n",
            "  Created wheel for pymatgen: filename=pymatgen-2022.0.17-cp37-cp37m-linux_x86_64.whl size=41840998 sha256=8431d215faccb90a3945369a06feffe5987404f52ecc3406781f49781c0e0bae\n",
            "  Stored in directory: /root/.cache/pip/wheels/cf/f6/22/58a9be23c5f1b452770e02ff42047175eaf0f9c2f15219fc76\n",
            "Successfully built pymatgen\n",
            "Installing collected packages: tenacity, ruamel.yaml.clib, numpy, uncertainties, spglib, scipy, ruamel.yaml, plotly, monty, pymatgen\n",
            "  Attempting uninstall: numpy\n",
            "    Found existing installation: numpy 1.19.5\n",
            "    Uninstalling numpy-1.19.5:\n",
            "      Successfully uninstalled numpy-1.19.5\n",
            "  Attempting uninstall: scipy\n",
            "    Found existing installation: scipy 1.4.1\n",
            "    Uninstalling scipy-1.4.1:\n",
            "      Successfully uninstalled scipy-1.4.1\n",
            "  Attempting uninstall: plotly\n",
            "    Found existing installation: plotly 4.4.1\n",
            "    Uninstalling plotly-4.4.1:\n",
            "      Successfully uninstalled plotly-4.4.1\n",
            "\u001b[31mERROR: pip's dependency resolver does not currently take into account all the packages that are installed. This behaviour is the source of the following dependency conflicts.\n",
            "yellowbrick 1.3.post1 requires numpy<1.20,>=1.16.0, but you have numpy 1.21.5 which is incompatible.\n",
            "datascience 0.10.6 requires folium==0.2.1, but you have folium 0.8.3 which is incompatible.\n",
            "albumentations 0.1.12 requires imgaug<0.2.7,>=0.2.5, but you have imgaug 0.2.9 which is incompatible.\u001b[0m\n",
            "Successfully installed monty-2021.12.1 numpy-1.21.5 plotly-5.5.0 pymatgen-2022.0.17 ruamel.yaml-0.17.17 ruamel.yaml.clib-0.2.6 scipy-1.7.3 spglib-1.16.3 tenacity-8.0.1 uncertainties-3.1.6\n"
          ]
        },
        {
          "output_type": "display_data",
          "data": {
            "application/vnd.colab-display-data+json": {
              "pip_warning": {
                "packages": [
                  "numpy"
                ]
              }
            }
          },
          "metadata": {}
        },
        {
          "output_type": "stream",
          "name": "stdout",
          "text": [
            "Requirement already satisfied: pymongo[srv] in /usr/local/lib/python3.7/dist-packages (3.12.1)\n",
            "Collecting dnspython<3.0.0,>=1.16.0\n",
            "  Downloading dnspython-2.1.0-py3-none-any.whl (241 kB)\n",
            "\u001b[?25l\r\u001b[K     |█▍                              | 10 kB 20.3 MB/s eta 0:00:01\r\u001b[K     |██▊                             | 20 kB 26.8 MB/s eta 0:00:01\r\u001b[K     |████                            | 30 kB 29.7 MB/s eta 0:00:01\r\u001b[K     |█████▍                          | 40 kB 20.9 MB/s eta 0:00:01\r\u001b[K     |██████▊                         | 51 kB 22.5 MB/s eta 0:00:01\r\u001b[K     |████████▏                       | 61 kB 18.5 MB/s eta 0:00:01\r\u001b[K     |█████████▌                      | 71 kB 17.9 MB/s eta 0:00:01\r\u001b[K     |██████████▉                     | 81 kB 19.3 MB/s eta 0:00:01\r\u001b[K     |████████████▏                   | 92 kB 20.5 MB/s eta 0:00:01\r\u001b[K     |█████████████▌                  | 102 kB 19.8 MB/s eta 0:00:01\r\u001b[K     |███████████████                 | 112 kB 19.8 MB/s eta 0:00:01\r\u001b[K     |████████████████▎               | 122 kB 19.8 MB/s eta 0:00:01\r\u001b[K     |█████████████████▋              | 133 kB 19.8 MB/s eta 0:00:01\r\u001b[K     |███████████████████             | 143 kB 19.8 MB/s eta 0:00:01\r\u001b[K     |████████████████████▎           | 153 kB 19.8 MB/s eta 0:00:01\r\u001b[K     |█████████████████████▋          | 163 kB 19.8 MB/s eta 0:00:01\r\u001b[K     |███████████████████████         | 174 kB 19.8 MB/s eta 0:00:01\r\u001b[K     |████████████████████████▍       | 184 kB 19.8 MB/s eta 0:00:01\r\u001b[K     |█████████████████████████▊      | 194 kB 19.8 MB/s eta 0:00:01\r\u001b[K     |███████████████████████████     | 204 kB 19.8 MB/s eta 0:00:01\r\u001b[K     |████████████████████████████▍   | 215 kB 19.8 MB/s eta 0:00:01\r\u001b[K     |█████████████████████████████▉  | 225 kB 19.8 MB/s eta 0:00:01\r\u001b[K     |███████████████████████████████▏| 235 kB 19.8 MB/s eta 0:00:01\r\u001b[K     |████████████████████████████████| 241 kB 19.8 MB/s \n",
            "\u001b[?25hInstalling collected packages: dnspython\n",
            "Successfully installed dnspython-2.1.0\n",
            "Collecting wget\n",
            "  Downloading wget-3.2.zip (10 kB)\n",
            "Building wheels for collected packages: wget\n",
            "  Building wheel for wget (setup.py) ... \u001b[?25l\u001b[?25hdone\n",
            "  Created wheel for wget: filename=wget-3.2-py3-none-any.whl size=9672 sha256=bbaeb66ab0fecb35787f93a207dad5f34c206936b7bed4c3a815c1674d7317cb\n",
            "  Stored in directory: /root/.cache/pip/wheels/a1/b6/7c/0e63e34eb06634181c63adacca38b79ff8f35c37e3c13e3c02\n",
            "Successfully built wget\n",
            "Installing collected packages: wget\n",
            "Successfully installed wget-3.2\n"
          ]
        }
      ]
    },
    {
      "cell_type": "markdown",
      "source": [
        "##Make necessary imports"
      ],
      "metadata": {
        "id": "auT9iyEL_tuz"
      }
    },
    {
      "cell_type": "code",
      "source": [
        "import os\n",
        "import numpy as np\n",
        "import matplotlib.pyplot as plt\n",
        "import copy\n",
        "\n",
        "from tqdm import tqdm_notebook\n",
        "\n",
        "import torch\n",
        "import torch.nn as nn\n",
        "import torch.nn.functional as F\n",
        "import torch.optim as optim\n",
        "\n",
        "import numpy as np\n",
        "import matplotlib.pyplot as plt\n",
        "import seaborn\n",
        "\n",
        "import pymatgen\n",
        "from pymatgen import core\n",
        "import pandas as pd\n",
        "\n",
        "from pymongo import MongoClient\n",
        "from sklearn.preprocessing import StandardScaler\n",
        "import math"
      ],
      "metadata": {
        "id": "BG_rwH0U_eZO"
      },
      "execution_count": 2,
      "outputs": []
    },
    {
      "cell_type": "markdown",
      "source": [
        "##Some helpful functions and classes"
      ],
      "metadata": {
        "id": "bScnRKJ6ADlr"
      }
    },
    {
      "cell_type": "code",
      "source": [
        "class data_generator(object):\n",
        "  \"\"\" Creates a generator object from the compositions provided\"\"\"\n",
        "  def __init__(self, comps):\n",
        "        all_eles = []\n",
        "        for c in comps:\n",
        "            all_eles += list(c.get_el_amt_dict().keys())\n",
        "        all_eles += ['O']\n",
        "        eles = np.array(sorted(list(set(all_eles))))\n",
        "\n",
        "        self.elements = eles\n",
        "        self.size = len(eles)\n",
        "        self.length = len(comps)\n",
        "\n",
        "        all_vecs = np.zeros([len(comps), len(self.elements)])\n",
        "        for i, c in enumerate(comps):\n",
        "            for k, v in c.get_el_amt_dict().items():\n",
        "                j = np.argwhere(eles == k)\n",
        "                all_vecs[i, j] = v\n",
        "        all_vecs = all_vecs / np.sum(all_vecs, axis=1).reshape(-1, 1)\n",
        "        self.real_data = np.array(all_vecs, dtype=np.float32)\n",
        "\n",
        "  def sample(self, N):\n",
        "      \"\"\" Randomly sample compositions\"\"\"\n",
        "      idx = np.random.choice(np.arange(self.length), N, replace=False)\n",
        "      data = self.real_data[idx]\n",
        "\n",
        "      return np.array(data, dtype=np.float32),idx\n",
        "    \n",
        "  def elements(self):\n",
        "      \"\"\" Return all the elements present in the dataset\"\"\"\n",
        "      return eles"
      ],
      "metadata": {
        "id": "ocqxqvPL_0Q7"
      },
      "execution_count": 3,
      "outputs": []
    },
    {
      "cell_type": "code",
      "source": [
        "def noise_sampler(N, z_dim):\n",
        "  \"\"\" Draw a noisy array from a normally distributed space \"\"\"\n",
        "  return np.random.normal(size=[N, z_dim]).astype('float32')"
      ],
      "metadata": {
        "id": "NBWiSY0uRGyN"
      },
      "execution_count": 4,
      "outputs": []
    },
    {
      "cell_type": "code",
      "source": [
        "def decode(vec, thresh=0.0):\n",
        "    \"\"\" Creates a PyMatgen type composition object from a numpy array using elements present in the dataset \"\"\"\n",
        "    comp = ''\n",
        "    for i, x in enumerate(vec):\n",
        "        if x > thresh:\n",
        "            comp += dset.elements[i] + '{:.2f} '.format(x)\n",
        "    return core.Composition(comp)"
      ],
      "metadata": {
        "id": "P6N4kk4GR-OS"
      },
      "execution_count": 5,
      "outputs": []
    },
    {
      "cell_type": "code",
      "source": [
        "import json\n",
        "#import pymatgen as mg\n",
        "import pandas as pd\n",
        "#import math\n",
        "from collections import defaultdict\n",
        "import os\n",
        "\n",
        "excelFile = 'https://drive.google.com/uc?id=1GnLqcg5GlHK6lh5pLbUv3Sui8J8imMQC&export=download'\n",
        "metaDF = pd.read_excel(excelFile)\n",
        "meta = metaDF.to_json(orient=\"split\")\n",
        "metaIndex = json.loads(meta)['columns']\n",
        "metaParsed = json.loads(meta)['data']\n",
        "meta_dict=defaultdict(dict)\n",
        "\n",
        "def structure_choose(metaIndex_dict,meta_dict,material,n_index):\n",
        "    metaIndex_update1={}\n",
        "    for j,k in metaIndex_dict.items():\n",
        "        comb_final=0\n",
        "        data={}\n",
        "        comb=0\n",
        "        sum_comb=0\n",
        "        if k>2:\n",
        "            for o in material['compositionDictionary'].keys():\n",
        "                if o not in meta_dict:\n",
        "                    data[j] = None\n",
        "                    break\n",
        "\n",
        "                structure = ''\n",
        "                if n_index != None:\n",
        "                    s = n_index\n",
        "                    structure = material['structure'][s]\n",
        "                else:\n",
        "                    try:\n",
        "                        for a in meta_dict[o].keys():\n",
        "                            int(a)\n",
        "                            structure = meta_dict[o][a][1]\n",
        "                    except:\n",
        "                        structure='BCC'\n",
        "                    #print('strucutre',material['compositionDictionary'],o,structure)\n",
        "\n",
        "                try:\n",
        "                    data[j]=meta_dict[o][structure][k]\n",
        "                    float(data[j])\n",
        "                    ##print('BCC')\n",
        "                except:\n",
        "                    ##print('No vaule for '+j+' of '+o+' for the phase in records, try other structures')\n",
        "                    if structure=='BCC':\n",
        "                        try:\n",
        "                            data[j]=meta_dict[o]['FCC'][k]\n",
        "                            float(data[j])\n",
        "                            ##print('FCC')\n",
        "                        except:\n",
        "                            try:\n",
        "                                data[j]=meta_dict[o]['HCP'][k]\n",
        "                                float(data[j])\n",
        "                                ##print('HCP')\n",
        "                            except:\n",
        "                                ##print('BREAk')\n",
        "                                data[j] = None\n",
        "                                break\n",
        "    \n",
        "                    elif structure=='FCC':\n",
        "                        try:\n",
        "                            data[j]=meta_dict[o]['HCP'][k]\n",
        "                            float(data[j])\n",
        "                        except:\n",
        "                            try:\n",
        "                                data[j]=meta_dict[o]['BCC'][k]\n",
        "                                float(data[j])\n",
        "                            except:\n",
        "                                data[j] = None\n",
        "                                break\n",
        "                    elif structure=='HCP':\n",
        "                        try:\n",
        "                            data[j]=meta_dict[o]['FCC'][k]\n",
        "                            float(data[j])\n",
        "                        except:\n",
        "                            try:\n",
        "                                data[j]=meta_dict[o]['BCC'][k]\n",
        "                                float(data[j])\n",
        "                            except:\n",
        "                                data[j] = None\n",
        "                                break\n",
        "                    elif structure=='Others':\n",
        "                        try:\n",
        "                            data[j]=meta_dict[o]['BCC'][k]\n",
        "                            float(data[j])\n",
        "                            #print('others','BCC')\n",
        "                        except:\n",
        "                            try:\n",
        "                                data[j]=meta_dict[o]['FCC'][k]\n",
        "                                float(data[j])\n",
        "                                #print('others','FCC')\n",
        "                            except:\n",
        "                                try:\n",
        "                                    data[j]=meta_dict[o]['HCP'][k]\n",
        "                                    float(data[j])\n",
        "                                    #print('others','HCP')\n",
        "                                except:\n",
        "                                    data[j] = None\n",
        "                                    break\n",
        "                \n",
        "\n",
        "                ##print('data',comb,i['material']['compositionDictionary'][o])\n",
        "                comb=comb+material['compositionDictionary'][o]*data[j]\n",
        "                \n",
        "                sum_comb=sum_comb+material['compositionDictionary'][o]\n",
        "                        \n",
        "            if data[j] != None:\n",
        "                metaIndex_update1[j] = round(float(comb/sum_comb),6)\n",
        "            else:\n",
        "                metaIndex_update1[j] = None\n",
        "\n",
        "    ##print(metaIndex_update1)\n",
        "    return metaIndex_update1\n",
        "\n",
        "def structure_calculate(metaIndex_dict,meta_dict,material):\n",
        "    all_structure=['BCC','FCC','HCP']\n",
        "    result=[]\n",
        "    n = 0\n",
        "    n_index=[]\n",
        "    try:\n",
        "        for i in range(len(material['structure'])):\n",
        "            if material['structure'][i] in all_structure:\n",
        "                n=n+1\n",
        "                n_index.append(i) \n",
        "        #print('n and st',n)\n",
        "    except:\n",
        "        pass\n",
        "    if n>1:\n",
        "        #print('n_value',material['formula'],material['structure'][n_index[0]])\n",
        "        for s in n_index:\n",
        "            singleResult = structure_choose(metaIndex_dict,meta_dict,material,s)\n",
        "            singleResult['structure'] = material['structure'][s]\n",
        "            result.append(singleResult)\n",
        "    elif n==1:\n",
        "        #print('n_value1',material['formula'],material['structure'][n_index[0]])\n",
        "        singleResult = structure_choose(metaIndex_dict,meta_dict,material,n_index[0])\n",
        "        singleResult['structure'] = material['structure'][n_index[0]]\n",
        "        result.append(singleResult)\n",
        "    elif n==0:\n",
        "        #print('n_value0',material['formula'])\n",
        "        singleResult = structure_choose(metaIndex_dict, meta_dict, material, None)\n",
        "        singleResult['structure'] = '?'\n",
        "        result.append(singleResult)\n",
        "    ##print(metaIndex_update)\n",
        "    return result\n",
        "\n",
        "\n",
        "def linear_combination_run(data):\n",
        "    \n",
        "    metaIndex_dict={}\n",
        "    for k in metaParsed:\n",
        "        meta_dict[k[2]][k[0]]=k\n",
        "    ##print(metaIndex,meta_dict)\n",
        "    for j in range(len(metaIndex)):\n",
        "        metaIndex_dict[metaIndex[j]] = j\n",
        "    result = structure_calculate(metaIndex_dict,meta_dict,data['material'])\n",
        "    return result"
      ],
      "metadata": {
        "id": "M-57HhXySITF"
      },
      "execution_count": 6,
      "outputs": []
    },
    {
      "cell_type": "code",
      "source": [
        "def FT_Rice_92(Shear_Modulus,Unstable_Stacking_Fault_Energy,Poisson_Ratio ):\n",
        "    if None in [Unstable_Stacking_Fault_Energy, Shear_Modulus, Poisson_Ratio]:\n",
        "        return None\n",
        "    else:\n",
        "        return math.sqrt(2*Shear_Modulus*Unstable_Stacking_Fault_Energy/(1-Poisson_Ratio))"
      ],
      "metadata": {
        "id": "zs3h0Wn8gdRk"
      },
      "execution_count": 7,
      "outputs": []
    },
    {
      "cell_type": "code",
      "source": [
        "def get_sm_ft_vals(compositions):\n",
        "  \"\"\" get the shear modulus and fracture toughness values from compositions in Pymatgen format\"\"\"\n",
        "  ft_val_list = []\n",
        "  sm_val_list = []\n",
        "  ks = {}\n",
        "  for i in range(len(compositions)):\n",
        "    temp = {}\n",
        "    temp['formula'] = compositions[i].formula\n",
        "    temp['compositionDictionary']=compositions[i].as_dict()\n",
        "    temp['reducedFormula']= compositions[i].reduced_formula\n",
        "    temp['structure']=['?']\n",
        "    ks['material']=temp\n",
        "    LCR = linear_combination_run(ks)\n",
        "    ft_val = FT_Rice_92(LCR[0]['DFTGh'],LCR[0]['USFE'],LCR[0]['DFTpoisson'])\n",
        "    ft_val_list.append(ft_val)\n",
        "    sm_val_list.append(LCR[0]['DFTGh'])\n",
        "  return sm_val_list,ft_val_list"
      ],
      "metadata": {
        "id": "5_Z-HbxzhWxw"
      },
      "execution_count": 8,
      "outputs": []
    },
    {
      "cell_type": "code",
      "source": [
        "if torch.cuda.is_available():\n",
        "    cuda = True\n",
        "    os.environ['CUDA_VISIBLE_DEVICES'] = \"0\"\n",
        "else:\n",
        "    cuda = False"
      ],
      "metadata": {
        "id": "CS_JZZIKAJwC"
      },
      "execution_count": 9,
      "outputs": []
    },
    {
      "cell_type": "markdown",
      "source": [
        "##Visualization functions"
      ],
      "metadata": {
        "id": "5CgE_ACDXE7I"
      }
    },
    {
      "cell_type": "code",
      "source": [
        "def fig_plot(points, dset, thresh=0.03):\n",
        "\n",
        "    fig, axes = plt.subplots(1, 4, figsize=(25, 5))\n",
        "    ax=axes[0]\n",
        "    ax.violinplot(points, np.arange(points.shape[1]))\n",
        "    ax.set_xticks(np.arange(dset.size))\n",
        "    ax.set_xticklabels(dset.elements,rotation=45)\n",
        "    ax.set_xlabel('Elements')\n",
        "    ax.set_ylabel('Frequency')\n",
        "    s = points.sum(axis=1)\n",
        "    ax=axes[1]\n",
        "    if np.max(s) - np.min(s) < 0.1:\n",
        "        ax.hist(s, np.linspace(0.9, 1.1, 6))\n",
        "    else:\n",
        "        ax.hist(s)\n",
        "    ax.set_xlabel('Sum of fractions')\n",
        "    ax.set_ylabel('Frequency')\n",
        "    ax = axes[2]\n",
        "    ax.hist(points.flatten())\n",
        "    ax.set_xlabel('Elemental fraction')\n",
        "    ax.set_ylabel('Frequency')\n",
        "    ne = (points > thresh).sum(axis=1)\n",
        "    ax = axes[3]\n",
        "    ax.hist(ne, np.arange(0, 17), width=0.80)\n",
        "    ax.set_xlabel('Number of elements')\n",
        "    ax.set_ylabel('Frequency')\n",
        "\n",
        "    plt.tight_layout()\n",
        "    plt.show()\n",
        "    plt.close()"
      ],
      "metadata": {
        "id": "AeNTvE_dXGoU"
      },
      "execution_count": 10,
      "outputs": []
    },
    {
      "cell_type": "markdown",
      "source": [
        "## Download CSV file containing data"
      ],
      "metadata": {
        "id": "x2GwLzjiF8_3"
      }
    },
    {
      "cell_type": "code",
      "source": [
        "filename = 'https://drive.google.com/uc?id=1-2Ia30pDDiRgof0FFinN4EQ-1BN24qld&export=download'\n",
        "df = pd.read_csv(filename,index_col=0)"
      ],
      "metadata": {
        "id": "l4zHmDtkHjKz"
      },
      "execution_count": 11,
      "outputs": []
    },
    {
      "cell_type": "code",
      "source": [
        "df"
      ],
      "metadata": {
        "colab": {
          "base_uri": "https://localhost:8080/",
          "height": 424
        },
        "id": "lCRByTgwNhhB",
        "outputId": "bba8836f-6e81-49e0-e71e-2386ed00688b"
      },
      "execution_count": 12,
      "outputs": [
        {
          "output_type": "execute_result",
          "data": {
            "text/html": [
              "\n",
              "  <div id=\"df-1af231f7-7621-4bc4-8596-089d1e5834d1\">\n",
              "    <div class=\"colab-df-container\">\n",
              "      <div>\n",
              "<style scoped>\n",
              "    .dataframe tbody tr th:only-of-type {\n",
              "        vertical-align: middle;\n",
              "    }\n",
              "\n",
              "    .dataframe tbody tr th {\n",
              "        vertical-align: top;\n",
              "    }\n",
              "\n",
              "    .dataframe thead th {\n",
              "        text-align: right;\n",
              "    }\n",
              "</style>\n",
              "<table border=\"1\" class=\"dataframe\">\n",
              "  <thead>\n",
              "    <tr style=\"text-align: right;\">\n",
              "      <th></th>\n",
              "      <th>Composition</th>\n",
              "      <th>Shear modulus</th>\n",
              "      <th>Fracture toughness</th>\n",
              "    </tr>\n",
              "  </thead>\n",
              "  <tbody>\n",
              "    <tr>\n",
              "      <th>0</th>\n",
              "      <td>Be5.5 Ti10.5 Mo10.5 Cr10.5 Fe10.5 Co10.5 Ni10....</td>\n",
              "      <td>58.825500</td>\n",
              "      <td>10.604205</td>\n",
              "    </tr>\n",
              "    <tr>\n",
              "      <th>1</th>\n",
              "      <td>Cr14.3 Fe14.3 Co14.3 Ni14.3 Al42.8</td>\n",
              "      <td>54.499199</td>\n",
              "      <td>9.250585</td>\n",
              "    </tr>\n",
              "    <tr>\n",
              "      <th>2</th>\n",
              "      <td>Cr1 Mn1 Fe1 Co1 Ni1</td>\n",
              "      <td>75.519997</td>\n",
              "      <td>11.330024</td>\n",
              "    </tr>\n",
              "    <tr>\n",
              "      <th>3</th>\n",
              "      <td>Cr20 Mn20 Fe20 Co20 Ni21</td>\n",
              "      <td>75.500992</td>\n",
              "      <td>11.299732</td>\n",
              "    </tr>\n",
              "    <tr>\n",
              "      <th>4</th>\n",
              "      <td>Cr10 Mn10 Fe10 Co10 Ni11</td>\n",
              "      <td>75.482353</td>\n",
              "      <td>11.269974</td>\n",
              "    </tr>\n",
              "    <tr>\n",
              "      <th>...</th>\n",
              "      <td>...</td>\n",
              "      <td>...</td>\n",
              "      <td>...</td>\n",
              "    </tr>\n",
              "    <tr>\n",
              "      <th>524</th>\n",
              "      <td>Hf0.9 Mo91</td>\n",
              "      <td>19.804789</td>\n",
              "      <td>21.160252</td>\n",
              "    </tr>\n",
              "    <tr>\n",
              "      <th>525</th>\n",
              "      <td>Hf1.5 Mo98.5</td>\n",
              "      <td>19.860500</td>\n",
              "      <td>21.074387</td>\n",
              "    </tr>\n",
              "    <tr>\n",
              "      <th>526</th>\n",
              "      <td>Hf3 Mo97</td>\n",
              "      <td>20.021000</td>\n",
              "      <td>20.826691</td>\n",
              "    </tr>\n",
              "    <tr>\n",
              "      <th>527</th>\n",
              "      <td>Hf0.1 Ti0.5 Ta5 W5 Mo1 Cr4 Re4 Ru4 Ni70.3 Al6 ...</td>\n",
              "      <td>81.609200</td>\n",
              "      <td>10.414715</td>\n",
              "    </tr>\n",
              "    <tr>\n",
              "      <th>528</th>\n",
              "      <td>Ti1.1 Ta7.9 W5.7 Mo2 Cr7.8 Co6.5 Ni63.8 Al5.2</td>\n",
              "      <td>73.524300</td>\n",
              "      <td>10.826843</td>\n",
              "    </tr>\n",
              "  </tbody>\n",
              "</table>\n",
              "<p>529 rows × 3 columns</p>\n",
              "</div>\n",
              "      <button class=\"colab-df-convert\" onclick=\"convertToInteractive('df-1af231f7-7621-4bc4-8596-089d1e5834d1')\"\n",
              "              title=\"Convert this dataframe to an interactive table.\"\n",
              "              style=\"display:none;\">\n",
              "        \n",
              "  <svg xmlns=\"http://www.w3.org/2000/svg\" height=\"24px\"viewBox=\"0 0 24 24\"\n",
              "       width=\"24px\">\n",
              "    <path d=\"M0 0h24v24H0V0z\" fill=\"none\"/>\n",
              "    <path d=\"M18.56 5.44l.94 2.06.94-2.06 2.06-.94-2.06-.94-.94-2.06-.94 2.06-2.06.94zm-11 1L8.5 8.5l.94-2.06 2.06-.94-2.06-.94L8.5 2.5l-.94 2.06-2.06.94zm10 10l.94 2.06.94-2.06 2.06-.94-2.06-.94-.94-2.06-.94 2.06-2.06.94z\"/><path d=\"M17.41 7.96l-1.37-1.37c-.4-.4-.92-.59-1.43-.59-.52 0-1.04.2-1.43.59L10.3 9.45l-7.72 7.72c-.78.78-.78 2.05 0 2.83L4 21.41c.39.39.9.59 1.41.59.51 0 1.02-.2 1.41-.59l7.78-7.78 2.81-2.81c.8-.78.8-2.07 0-2.86zM5.41 20L4 18.59l7.72-7.72 1.47 1.35L5.41 20z\"/>\n",
              "  </svg>\n",
              "      </button>\n",
              "      \n",
              "  <style>\n",
              "    .colab-df-container {\n",
              "      display:flex;\n",
              "      flex-wrap:wrap;\n",
              "      gap: 12px;\n",
              "    }\n",
              "\n",
              "    .colab-df-convert {\n",
              "      background-color: #E8F0FE;\n",
              "      border: none;\n",
              "      border-radius: 50%;\n",
              "      cursor: pointer;\n",
              "      display: none;\n",
              "      fill: #1967D2;\n",
              "      height: 32px;\n",
              "      padding: 0 0 0 0;\n",
              "      width: 32px;\n",
              "    }\n",
              "\n",
              "    .colab-df-convert:hover {\n",
              "      background-color: #E2EBFA;\n",
              "      box-shadow: 0px 1px 2px rgba(60, 64, 67, 0.3), 0px 1px 3px 1px rgba(60, 64, 67, 0.15);\n",
              "      fill: #174EA6;\n",
              "    }\n",
              "\n",
              "    [theme=dark] .colab-df-convert {\n",
              "      background-color: #3B4455;\n",
              "      fill: #D2E3FC;\n",
              "    }\n",
              "\n",
              "    [theme=dark] .colab-df-convert:hover {\n",
              "      background-color: #434B5C;\n",
              "      box-shadow: 0px 1px 3px 1px rgba(0, 0, 0, 0.15);\n",
              "      filter: drop-shadow(0px 1px 2px rgba(0, 0, 0, 0.3));\n",
              "      fill: #FFFFFF;\n",
              "    }\n",
              "  </style>\n",
              "\n",
              "      <script>\n",
              "        const buttonEl =\n",
              "          document.querySelector('#df-1af231f7-7621-4bc4-8596-089d1e5834d1 button.colab-df-convert');\n",
              "        buttonEl.style.display =\n",
              "          google.colab.kernel.accessAllowed ? 'block' : 'none';\n",
              "\n",
              "        async function convertToInteractive(key) {\n",
              "          const element = document.querySelector('#df-1af231f7-7621-4bc4-8596-089d1e5834d1');\n",
              "          const dataTable =\n",
              "            await google.colab.kernel.invokeFunction('convertToInteractive',\n",
              "                                                     [key], {});\n",
              "          if (!dataTable) return;\n",
              "\n",
              "          const docLinkHtml = 'Like what you see? Visit the ' +\n",
              "            '<a target=\"_blank\" href=https://colab.research.google.com/notebooks/data_table.ipynb>data table notebook</a>'\n",
              "            + ' to learn more about interactive tables.';\n",
              "          element.innerHTML = '';\n",
              "          dataTable['output_type'] = 'display_data';\n",
              "          await google.colab.output.renderOutput(dataTable, element);\n",
              "          const docLink = document.createElement('div');\n",
              "          docLink.innerHTML = docLinkHtml;\n",
              "          element.appendChild(docLink);\n",
              "        }\n",
              "      </script>\n",
              "    </div>\n",
              "  </div>\n",
              "  "
            ],
            "text/plain": [
              "                                           Composition  ...  Fracture toughness\n",
              "0    Be5.5 Ti10.5 Mo10.5 Cr10.5 Fe10.5 Co10.5 Ni10....  ...           10.604205\n",
              "1                   Cr14.3 Fe14.3 Co14.3 Ni14.3 Al42.8  ...            9.250585\n",
              "2                                  Cr1 Mn1 Fe1 Co1 Ni1  ...           11.330024\n",
              "3                             Cr20 Mn20 Fe20 Co20 Ni21  ...           11.299732\n",
              "4                             Cr10 Mn10 Fe10 Co10 Ni11  ...           11.269974\n",
              "..                                                 ...  ...                 ...\n",
              "524                                         Hf0.9 Mo91  ...           21.160252\n",
              "525                                       Hf1.5 Mo98.5  ...           21.074387\n",
              "526                                           Hf3 Mo97  ...           20.826691\n",
              "527  Hf0.1 Ti0.5 Ta5 W5 Mo1 Cr4 Re4 Ru4 Ni70.3 Al6 ...  ...           10.414715\n",
              "528      Ti1.1 Ta7.9 W5.7 Mo2 Cr7.8 Co6.5 Ni63.8 Al5.2  ...           10.826843\n",
              "\n",
              "[529 rows x 3 columns]"
            ]
          },
          "metadata": {},
          "execution_count": 12
        }
      ]
    },
    {
      "cell_type": "code",
      "source": [
        "comps = [core.Composition(x) for x in df['Composition']]\n",
        "prop_vals = df.iloc[:,1:].values.astype('float32')"
      ],
      "metadata": {
        "id": "pNX4qa3CNAkS"
      },
      "execution_count": 13,
      "outputs": []
    },
    {
      "cell_type": "markdown",
      "source": [
        "Scale property values using StandardScaler"
      ],
      "metadata": {
        "id": "9qP0t5jdPIhs"
      }
    },
    {
      "cell_type": "code",
      "source": [
        "scaler = StandardScaler()\n",
        "prop_vals_scaled = scaler.fit_transform(prop_vals)"
      ],
      "metadata": {
        "id": "24ou5qPkOeuj"
      },
      "execution_count": 14,
      "outputs": []
    },
    {
      "cell_type": "markdown",
      "source": [
        "Do a Kernel Density Estimation for creating a probability distribution of the property values for sampling"
      ],
      "metadata": {
        "id": "h6VorTYpPMNr"
      }
    },
    {
      "cell_type": "code",
      "source": [
        "from sklearn.neighbors import KernelDensity\n",
        "kde = KernelDensity(kernel='gaussian', bandwidth=0.5)\n",
        "v = kde.fit(prop_vals_scaled)\n",
        "kde.sample(10) #samples 10 property values using the probability distribution of the properties"
      ],
      "metadata": {
        "id": "UPH6iN_AOsoX",
        "colab": {
          "base_uri": "https://localhost:8080/"
        },
        "outputId": "a7ace06c-6030-458f-b4b6-e707dd0d15ca"
      },
      "execution_count": 15,
      "outputs": [
        {
          "output_type": "execute_result",
          "data": {
            "text/plain": [
              "array([[-0.00864294, -0.85449818],\n",
              "       [-1.06239816, -1.07248437],\n",
              "       [-0.54777862, -0.41200514],\n",
              "       [ 0.2362336 , -0.36985   ],\n",
              "       [-0.3752301 , -1.70450298],\n",
              "       [ 1.20776892,  2.19146167],\n",
              "       [-1.56371746, -1.61918687],\n",
              "       [ 0.84893516,  0.17991864],\n",
              "       [-1.20527   , -0.99956008],\n",
              "       [-1.24222617, -1.38597045]])"
            ]
          },
          "metadata": {},
          "execution_count": 15
        }
      ]
    },
    {
      "cell_type": "markdown",
      "source": [
        "Create data_generator object for randomly sampling vectorized compositions from dataset "
      ],
      "metadata": {
        "id": "eMaP4cq3Pf6T"
      }
    },
    {
      "cell_type": "code",
      "source": [
        "dset = data_generator(comps)\n",
        "dset.sample(10) #samples 10 compositions from the dataset (remider : sample returns compositions + its index in dataset)"
      ],
      "metadata": {
        "id": "aky2zFWVOxjd"
      },
      "execution_count": null,
      "outputs": []
    },
    {
      "cell_type": "markdown",
      "source": [
        "##GAN architecture"
      ],
      "metadata": {
        "id": "7HL-TzRSGvH4"
      }
    },
    {
      "cell_type": "code",
      "source": [
        "###### MODELS: Generator model and discriminator model\n",
        "class Generator(nn.Module):\n",
        "    def __init__(self, input_size, hidden_size, output_size):\n",
        "        super(Generator, self).__init__()\n",
        "        self.map1 = nn.Linear(input_size, hidden_size)\n",
        "        self.map2 = nn.Linear(hidden_size, hidden_size)\n",
        "        self.map3 = nn.Linear(hidden_size, hidden_size)\n",
        "        self.map4 = nn.Linear(hidden_size, hidden_size)\n",
        "        self.mapf = nn.Linear(hidden_size, output_size)\n",
        "        self.dropout = nn.Dropout(0.2)\n",
        "        self.activation_fn = torch.nn.LeakyReLU()\n",
        "        \n",
        "    def forward(self, x, property):\n",
        "        x = torch.cat([x,property],1)\n",
        "        x = self.activation_fn(self.map1(x))\n",
        "        x = self.dropout(x)\n",
        "        x = self.activation_fn(self.map2(x))\n",
        "        x = self.dropout(x)\n",
        "        x = self.activation_fn(self.map3(x))\n",
        "        x = self.dropout(x)\n",
        "        x = self.activation_fn(self.map4(x))\n",
        "        x = self.dropout(x)\n",
        "        x = torch.nn.Softmax(dim=-1)(self.mapf(x))\n",
        "        x = torch.nn.Threshold(0.04,1e-12)(x)\n",
        "        return x/x.sum(axis=1).reshape(-1,1)\n",
        "\n",
        "\n",
        "class Discriminator(nn.Module):\n",
        "    def __init__(self, input_size, hidden_size, output_size):\n",
        "        super(Discriminator, self).__init__()\n",
        "        self.map1 = nn.Linear(input_size, hidden_size)\n",
        "        self.map2 = nn.Linear(hidden_size, hidden_size)\n",
        "        self.map3 = nn.Linear(hidden_size, hidden_size)\n",
        "        self.map4 = nn.Linear(hidden_size, hidden_size)\n",
        "        self.map5 = nn.Linear(hidden_size, hidden_size)\n",
        "        self.map6 = nn.Linear(hidden_size, hidden_size)\n",
        "        self.mapf = nn.Linear(hidden_size, output_size)\n",
        "        self.dropout = nn.Dropout(0.1)\n",
        "        self.activation_fn = torch.nn.LeakyReLU()\n",
        "\n",
        "    def forward(self, x, property):\n",
        "        x = torch.cat([x,property],1)\n",
        "        x = self.activation_fn(self.map1(x))\n",
        "        x = self.activation_fn(self.map2(x))\n",
        "        x = self.activation_fn(self.map3(x))\n",
        "        x = self.activation_fn(self.map4(x))\n",
        "        return self.mapf(x)  # for classifier (Wasserstein)\n",
        "    \n",
        "    def load(self, backup):\n",
        "        for m_from, m_to in zip(backup.modules(), self.modules()):\n",
        "             if isinstance(m_to, nn.Linear):\n",
        "                m_to.weight.data = m_from.weight.data.clone()\n",
        "                if m_to.bias is not None:\n",
        "                    m_to.bias.data = m_from.bias.data.clone()  "
      ],
      "metadata": {
        "id": "qf_iF7w1GEHu"
      },
      "execution_count": 19,
      "outputs": []
    },
    {
      "cell_type": "markdown",
      "source": [
        "TODO : Load the joblib model and print the architecture"
      ],
      "metadata": {
        "id": "GfgZND__QqYR"
      }
    },
    {
      "cell_type": "code",
      "source": [
        "import wget\n",
        "generator_path = 'https://drive.google.com/uc?id=1-4TkRTVdk2nlJmfzha_veJ-6vAZy9Nif&export=download'\n",
        "critic_path = 'https://drive.google.com/uc?id=1-7OWsI6XIXpFc8254LBYwj_lH9TGjMwx&export=download'\n",
        "\n",
        "gen_file = wget.download(generator_path)\n",
        "crit_file = wget.download(critic_path)"
      ],
      "metadata": {
        "id": "nlGBEjXkfHuf"
      },
      "execution_count": 28,
      "outputs": []
    },
    {
      "cell_type": "code",
      "source": [
        "import joblib\n",
        "\n",
        "G = joblib.load(gen_file)\n",
        "D = joblib.load(crit_file)"
      ],
      "metadata": {
        "id": "eGERC0_0QwMy"
      },
      "execution_count": 30,
      "outputs": []
    },
    {
      "cell_type": "code",
      "source": [
        "print(G)"
      ],
      "metadata": {
        "colab": {
          "base_uri": "https://localhost:8080/"
        },
        "id": "kHqC8b6jVh8b",
        "outputId": "5e4692bd-c2f1-4ca5-c9f0-fa5cba1ae317"
      },
      "execution_count": 31,
      "outputs": [
        {
          "output_type": "stream",
          "name": "stdout",
          "text": [
            "Generator(\n",
            "  (map1): Linear(in_features=18, out_features=32, bias=True)\n",
            "  (map2): Linear(in_features=32, out_features=32, bias=True)\n",
            "  (map3): Linear(in_features=32, out_features=32, bias=True)\n",
            "  (map4): Linear(in_features=32, out_features=32, bias=True)\n",
            "  (mapf): Linear(in_features=32, out_features=21, bias=True)\n",
            "  (dropout): Dropout(p=0.2, inplace=False)\n",
            "  (activation_fn): LeakyReLU(negative_slope=0.01)\n",
            ")\n"
          ]
        }
      ]
    },
    {
      "cell_type": "code",
      "source": [
        "print(D)"
      ],
      "metadata": {
        "colab": {
          "base_uri": "https://localhost:8080/"
        },
        "id": "-D1WosCmVjxr",
        "outputId": "f280b16c-ead3-4d6d-b588-45d6282f1e5f"
      },
      "execution_count": 32,
      "outputs": [
        {
          "output_type": "stream",
          "name": "stdout",
          "text": [
            "Discriminator(\n",
            "  (map1): Linear(in_features=23, out_features=32, bias=True)\n",
            "  (map2): Linear(in_features=32, out_features=32, bias=True)\n",
            "  (map3): Linear(in_features=32, out_features=32, bias=True)\n",
            "  (map4): Linear(in_features=32, out_features=32, bias=True)\n",
            "  (map5): Linear(in_features=32, out_features=32, bias=True)\n",
            "  (map6): Linear(in_features=32, out_features=32, bias=True)\n",
            "  (mapf): Linear(in_features=32, out_features=1, bias=True)\n",
            "  (dropout): Dropout(p=0.1, inplace=False)\n",
            "  (activation_fn): LeakyReLU(negative_slope=0.01)\n",
            ")\n"
          ]
        }
      ]
    },
    {
      "cell_type": "markdown",
      "source": [
        "TEST : check if generator can generate comps (NOTE - Use 16 as the size of the latent code, 2 as the size of the property code)"
      ],
      "metadata": {
        "id": "9pbS_Qa-VWNG"
      }
    },
    {
      "cell_type": "code",
      "source": [
        "N_samples = 1000\n",
        "gen_input = torch.from_numpy(noise_sampler(N_samples, 16))\n",
        "prop_input = torch.from_numpy(kde.sample(N_samples).astype('float32'))\n",
        "if cuda:\n",
        "    gen_input = gen_input.cuda()\n",
        "    prop_input = prop_input.cuda()\n",
        "g_fake_data = G(gen_input,prop_input).to('cpu').detach().numpy()"
      ],
      "metadata": {
        "id": "rArk3XswVV9h"
      },
      "execution_count": null,
      "outputs": []
    },
    {
      "cell_type": "markdown",
      "source": [
        "TEST : check how the generated compositions look using the decode function"
      ],
      "metadata": {
        "id": "d-pS4q9wWYVs"
      }
    },
    {
      "cell_type": "code",
      "source": [
        "[decode(x) for x in g_fake_data]"
      ],
      "metadata": {
        "id": "tCCuULpYVoBJ"
      },
      "execution_count": null,
      "outputs": []
    },
    {
      "cell_type": "markdown",
      "source": [
        "TEST : Visually examine the statistics from the compositions"
      ],
      "metadata": {
        "id": "RV-xFTh6We_o"
      }
    },
    {
      "cell_type": "code",
      "source": [
        "fig_plot(g_fake_data)"
      ],
      "metadata": {
        "colab": {
          "base_uri": "https://localhost:8080/",
          "height": 276
        },
        "id": "En4smyRyWroI",
        "outputId": "00883bc5-c78c-48cc-8f39-87545e1b586a"
      },
      "execution_count": null,
      "outputs": [
        {
          "output_type": "display_data",
          "data": {
            "image/png": "[encoded data removed]",
            "text/plain": [
              "<Figure size 1800x360 with 4 Axes>"
            ]
          },
          "metadata": {
            "needs_background": "light"
          }
        }
      ]
    },
    {
      "cell_type": "code",
      "source": [
        "fig_plot(dset.real_data)"
      ],
      "metadata": {
        "colab": {
          "base_uri": "https://localhost:8080/",
          "height": 276
        },
        "id": "UtifAGatXKfn",
        "outputId": "caccd823-b3ba-4c1d-fbfc-80fb8d5d3fc2"
      },
      "execution_count": null,
      "outputs": [
        {
          "output_type": "display_data",
          "data": {
            "image/png": "[encoded data removed]",
            "text/plain": [
              "<Figure size 1800x360 with 4 Axes>"
            ]
          },
          "metadata": {
            "needs_background": "light"
          }
        }
      ]
    },
    {
      "cell_type": "markdown",
      "source": [
        "##Sampling from latent space"
      ],
      "metadata": {
        "id": "FAuAN1VOQxoM"
      }
    },
    {
      "cell_type": "markdown",
      "source": [
        "EXAMPLE : Use a fixed conditioning value to generate 10 compositions"
      ],
      "metadata": {
        "id": "CH6mMY1eeCgA"
      }
    },
    {
      "cell_type": "code",
      "source": [
        "fixed_cond = torch.from_numpy((np.ones((10,2))*kde.sample(1)).astype('float32'))"
      ],
      "metadata": {
        "id": "LHjcKG4ae94l"
      },
      "execution_count": null,
      "outputs": []
    },
    {
      "cell_type": "code",
      "source": [
        "latent_code = torch.from_numpy(noise_sampler(10,16).astype('float32'))\n",
        "if cuda:\n",
        "    latent_code = latent_code.cuda()\n",
        "    fixed_cond = fixed_cond.cuda()\n",
        "g_fake_data = G(latent_code,fixed_cond).to('cpu').detach().numpy()\n",
        "decoded = [decode(x) for x in g_fake_data]"
      ],
      "metadata": {
        "id": "GU7ZFTqIeHNr"
      },
      "execution_count": null,
      "outputs": []
    },
    {
      "cell_type": "code",
      "source": [
        "decoded"
      ],
      "metadata": {
        "colab": {
          "base_uri": "https://localhost:8080/"
        },
        "id": "90xO1jK3hBGm",
        "outputId": "21f62d02-7333-4d06-b24d-133abcc53fe1"
      },
      "execution_count": null,
      "outputs": [
        {
          "output_type": "execute_result",
          "data": {
            "text/plain": [
              "[Comp: Al0.05 Cr0.07 Fe0.22 Co0.22 Ni0.45,\n",
              " Comp: Ta0.24 Nb0.17 Al0.1 Cr0.07 Fe0.06 Co0.08 Cu0.09 Si0.05 Ni0.14,\n",
              " Comp: Mn0.16 Al0.05 Fe0.26 Cu0.1 Ni0.24 Ru0.18,\n",
              " Comp: Ta0.06 Ti0.16 Al0.08 Cr0.19 Fe0.11 Co0.22 Ni0.18,\n",
              " Comp: Ta0.36 Mn0.06 Al0.06 Cr0.06 Fe0.09 Co0.23 Ni0.14,\n",
              " Comp: Cr0.16 Fe0.29 Co0.26 Ni0.29,\n",
              " Comp: Al0.15 Cr0.18 Fe0.22 Co0.17 Ni0.28,\n",
              " Comp: Al0.19 Cr0.19 Fe0.2 Co0.17 Ni0.25,\n",
              " Comp: Ta0.53 Nb0.11 Re0.15 Si0.05 Ir0.07 Ru0.08,\n",
              " Comp: Mn0.06 Al0.07 Cr0.14 Fe0.23 Co0.22 Cu0.06 Ni0.21]"
            ]
          },
          "metadata": {},
          "execution_count": 150
        }
      ]
    },
    {
      "cell_type": "markdown",
      "source": [
        "EXAMPLE : Get the property values of the generated compositions from the surrogate model"
      ],
      "metadata": {
        "id": "02w76_6nfzLt"
      }
    },
    {
      "cell_type": "code",
      "source": [
        "get_sm_ft_vals(decoded)"
      ],
      "metadata": {
        "colab": {
          "base_uri": "https://localhost:8080/"
        },
        "id": "RMFu_0bpf592",
        "outputId": "99d93fcf-f946-4fd0-e14e-91b4a80fdbb4"
      },
      "execution_count": null,
      "outputs": [
        {
          "output_type": "execute_result",
          "data": {
            "text/plain": [
              "([86.477344,\n",
              "  57.108328,\n",
              "  96.516726,\n",
              "  71.083109,\n",
              "  75.331977,\n",
              "  86.704535,\n",
              "  75.557567,\n",
              "  72.711684,\n",
              "  94.836577,\n",
              "  79.242461],\n",
              " [10.794959488950598,\n",
              "  9.604588458145106,\n",
              "  10.90963042123352,\n",
              "  10.769704991974761,\n",
              "  10.76941054547566,\n",
              "  12.516039542901396,\n",
              "  11.527211690296943,\n",
              "  11.304537237732903,\n",
              "  12.898635949381578,\n",
              "  11.285791332506646])"
            ]
          },
          "metadata": {},
          "execution_count": 153
        }
      ]
    },
    {
      "cell_type": "markdown",
      "source": [
        "TO_TRY : \n",
        "1. Use normal distribution sampling and uniform distribution sampling for conditioning vector\n",
        "2. Take some fixed conditions (using joint probability distribution) and generate compositions. \n",
        "3. Do this for individual probability distributions\n"
      ],
      "metadata": {
        "id": "1Yvt8sDpSFNg"
      }
    },
    {
      "cell_type": "code",
      "source": [
        ""
      ],
      "metadata": {
        "id": "MzUHT8kmSEtI"
      },
      "execution_count": null,
      "outputs": []
    },
    {
      "cell_type": "markdown",
      "source": [
        ""
      ],
      "metadata": {
        "id": "fC6YUH38SES9"
      }
    },
    {
      "cell_type": "markdown",
      "source": [
        "TO_TRY : Take a fixed latent code, and use some (10-20?) different conditioning cases - visualize the changes in the generated outcome"
      ],
      "metadata": {
        "id": "D64_5eYiRtOq"
      }
    },
    {
      "cell_type": "code",
      "source": [
        ""
      ],
      "metadata": {
        "id": "2FoSPI_dQzkd"
      },
      "execution_count": null,
      "outputs": []
    }
  ]
}